{
 "cells": [
  {
   "cell_type": "code",
   "execution_count": 2,
   "id": "9f93d5c3-0663-49d2-9da2-e67d21fe8f59",
   "metadata": {
    "scrolled": true
   },
   "outputs": [
    {
     "data": {
      "application/vnd.jupyter.ywidget-view+json": {
       "model_id": "8f45a566d2c64933a6d392e45dd95c3d",
       "version_major": 2,
       "version_minor": 0
      },
      "text/plain": [
       "<jupytercad.notebook.cad_document.CadDocument object at 0x7f341fd0b040>"
      ]
     },
     "execution_count": 2,
     "metadata": {},
     "output_type": "execute_result"
    }
   ],
   "source": [
    "from jupytercad import CadDocument\n",
    "import math\n",
    "\n",
    "doc = CadDocument('gear.jcad')\n",
    "\n",
    "radius = 5\n",
    "num_teeth = 16\n",
    "tooth_width = 1\n",
    "\n",
    "# Create the gear wheel body\n",
    "body_radius = radius - tooth_width / 2\n",
    "body_height = tooth_width\n",
    "doc.add_cylinder(radius=body_radius, height=body_height)\n",
    "\n",
    "# Create the teeth\n",
    "tooth_angle = 2 * math.pi / num_teeth\n",
    "for i in range(num_teeth):\n",
    "    angle = i * tooth_angle\n",
    "    doc.add_box(\n",
    "        length=2*tooth_width, \n",
    "        width=1*tooth_width,\n",
    "        height=body_height,\n",
    "        position=[(radius - tooth_width) * math.cos(angle), (radius - tooth_width) * math.sin(angle), 0], \n",
    "        rotation_axis=[0, 0, 1], \n",
    "        rotation_angle=angle * 180/math.pi\n",
    "    ).cut()\n",
    "\n",
    "# Create the central hole\n",
    "hole_radius = radius * 0.2\n",
    "hole_height = body_height\n",
    "doc.add_cylinder(radius=hole_radius, height=hole_height).cut()\n",
    "doc"
   ]
  },
  {
   "cell_type": "code",
   "execution_count": null,
   "id": "0bac9214-9f0f-4060-8001-e699c17be58a",
   "metadata": {},
   "outputs": [],
   "source": []
  }
 ],
 "metadata": {
  "kernelspec": {
   "display_name": "Python 3 (ipykernel)",
   "language": "python",
   "name": "python3"
  },
  "language_info": {
   "codemirror_mode": {
    "name": "ipython",
    "version": 3
   },
   "file_extension": ".py",
   "mimetype": "text/x-python",
   "name": "python",
   "nbconvert_exporter": "python",
   "pygments_lexer": "ipython3",
   "version": "3.10.10"
  }
 },
 "nbformat": 4,
 "nbformat_minor": 5
}
