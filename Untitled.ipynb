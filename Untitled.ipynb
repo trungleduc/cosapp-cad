{
 "cells": [
  {
   "cell_type": "code",
   "execution_count": 1,
   "id": "b4a626d7-6ed4-4bc7-8e15-156820dc5982",
   "metadata": {},
   "outputs": [],
   "source": [
    "from wrapper import JcadNotification\n",
    "from jupytercad import CadDocument\n",
    "import time"
   ]
  },
  {
   "cell_type": "code",
   "execution_count": 2,
   "id": "91bb1b95-ded5-4349-b87e-c48d7f442912",
   "metadata": {},
   "outputs": [],
   "source": [
    "doc = CadDocument('test.jcad');\n",
    "obs = JcadNotification(doc)"
   ]
  },
  {
   "cell_type": "code",
   "execution_count": 3,
   "id": "ff51c17c-a493-4d4e-8b53-ff263ec72202",
   "metadata": {},
   "outputs": [],
   "source": [
    "def callback():\n",
    "    obj = doc.get_object('box')\n",
    "    time.sleep(1)\n",
    "    if obj.parameters.Length > 10:\n",
    "        return False, 'The test xxx has failed'\n",
    "    else:\n",
    "        return True, None"
   ]
  },
  {
   "cell_type": "code",
   "execution_count": 4,
   "id": "d056965c-cecd-46c0-8cdc-9e19b7328a8e",
   "metadata": {},
   "outputs": [],
   "source": [
    "obs.connect(callback)"
   ]
  },
  {
   "cell_type": "code",
   "execution_count": null,
   "id": "9c54a8b8-4e56-43d4-a51d-c17a1cf923eb",
   "metadata": {},
   "outputs": [],
   "source": []
  }
 ],
 "metadata": {
  "kernelspec": {
   "display_name": "Python 3 (ipykernel)",
   "language": "python",
   "name": "python3"
  },
  "language_info": {
   "codemirror_mode": {
    "name": "ipython",
    "version": 3
   },
   "file_extension": ".py",
   "mimetype": "text/x-python",
   "name": "python",
   "nbconvert_exporter": "python",
   "pygments_lexer": "ipython3",
   "version": "3.10.10"
  }
 },
 "nbformat": 4,
 "nbformat_minor": 5
}
