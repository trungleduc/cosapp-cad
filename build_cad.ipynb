{
 "cells": [
  {
   "cell_type": "code",
   "execution_count": 30,
   "id": "2c8d5215-6d5c-48dd-badc-87f1a63596ab",
   "metadata": {
    "scrolled": true
   },
   "outputs": [],
   "source": [
    "from jupytercad import CadDocument\n",
    "import math"
   ]
  },
  {
   "cell_type": "code",
   "execution_count": 31,
   "id": "38ee4fbb-4bb5-435b-9e9f-6a2ca8f0205d",
   "metadata": {
    "scrolled": true
   },
   "outputs": [],
   "source": [
    "doc = CadDocument('gear.jcad')\n",
    "radius = 5\n",
    "num_teeth = 16\n",
    "tooth_width = 1\n",
    "\n",
    "# Create the gear wheel body\n",
    "body_radius = radius - tooth_width / 2\n",
    "body_height = tooth_width\n",
    "doc.add_cylinder(radius=body_radius, height=body_height, rotation_axis=[1, 0, 0],rotation_angle=90 );"
   ]
  },
  {
   "cell_type": "code",
   "execution_count": null,
   "id": "41718d54-2851-4398-8d41-e960f7cb99cc",
   "metadata": {
    "scrolled": true
   },
   "outputs": [],
   "source": [
    "# Create the teeth\n",
    "tooth_angle = 2 * math.pi / num_teeth\n",
    "for i in range(num_teeth):\n",
    "    angle = i * tooth_angle\n",
    "    doc.add_box(\n",
    "        length=tooth_width, \n",
    "        width=tooth_width,\n",
    "        height=body_height,\n",
    "        position=[(radius - tooth_width) * math.sin(angle), -body_height,(radius - tooth_width) * math.cos(angle)], \n",
    "        rotation_axis=[0, 1, 0], \n",
    "        rotation_angle=angle * 180/math.pi\n",
    "    ).cut();"
   ]
  },
  {
   "cell_type": "code",
   "execution_count": null,
   "id": "8eae3547-ac04-4aa7-a7aa-feb30918f86a",
   "metadata": {
    "scrolled": true
   },
   "outputs": [],
   "source": [
    "# Create the central hole\n",
    "hole_radius = radius * 0.2\n",
    "hole_height = body_height*5\n",
    "doc.add_cylinder(radius=hole_radius, height=hole_height,  rotation_axis=[1, 0, 0],rotation_angle=90).cut()\n",
    "doc\n"
   ]
  },
  {
   "cell_type": "code",
   "execution_count": null,
   "id": "0bac9214-9f0f-4060-8001-e699c17be58a",
   "metadata": {},
   "outputs": [],
   "source": []
  }
 ],
 "metadata": {
  "kernelspec": {
   "display_name": "Python 3 (ipykernel)",
   "language": "python",
   "name": "python3"
  },
  "language_info": {
   "codemirror_mode": {
    "name": "ipython",
    "version": 3
   },
   "file_extension": ".py",
   "mimetype": "text/x-python",
   "name": "python",
   "nbconvert_exporter": "python",
   "pygments_lexer": "ipython3",
   "version": "3.10.10"
  }
 },
 "nbformat": 4,
 "nbformat_minor": 5
}
