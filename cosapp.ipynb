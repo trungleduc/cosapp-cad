{
 "cells": [
  {
   "cell_type": "code",
   "execution_count": 1,
   "id": "f4747123-9c32-4ef8-a1d0-501017588a25",
   "metadata": {},
   "outputs": [],
   "source": [
    "    \n",
    "from cosapp.systems import System\n",
    "from wrapper import JcadNotification\n",
    "from jupytercad import CadDocument\n",
    "from simulate import simulate, test\n",
    "import time\n",
    "import json, time\n",
    "CYLINDER = 'Cylinder 2' \n",
    "GEAR = 'Cut 17' \n",
    "from cosapp.drivers import NonLinearSolver"
   ]
  },
  {
   "cell_type": "code",
   "execution_count": 2,
   "id": "2cca8f87-b5e8-40c9-becb-878bcb6a540d",
   "metadata": {},
   "outputs": [],
   "source": [
    "class Geom(System):\n",
    "    def setup(self, path: str):\n",
    "        super().setup()\n",
    "        self.add_inward('gear', CadDocument(path))\n",
    "        self.add_inward('length', 8.)\n",
    "        self.add_inward('radius', 2.)\n",
    "        self.add_outward('mass', 0.0)\n",
    "        self.add_outward('tensor_of_inertia', [[0.,0.,0.],[0.,0.,0.],[0.,0.,0.]])\n",
    "        self.add_outward('center_of_mass', [0.,0.,0.])\n",
    "\n",
    "    def set_shape_param(self, shape, param, value):\n",
    "        yobject = self.gear._get_yobject_by_name(CYLINDER)\n",
    "        if yobject:\n",
    "            pyobject = json.loads(yobject.to_json())\n",
    "            parameters = pyobject['parameters']\n",
    "            parameters[param] = value\n",
    "            with self.gear.ydoc.begin_transaction() as t:\n",
    "                yobject.set(t, \"parameters\", parameters)\n",
    "                \n",
    "    def compute(self):\n",
    "        time.sleep(5)\n",
    "        self.mass = self.gear.get_object(CYLINDER).metadata.mass\n",
    "        self.tensor_of_inertia = self.gear.get_object(GEAR).metadata.matrixOfInertia\n",
    "        self.center_of_mass = self.gear.get_object(GEAR).metadata.centerOfMass\n",
    "        self.set_shape_param(CYLINDER, 'Height', self.length)\n",
    "        self.set_shape_param(CYLINDER, 'Radius', self.radius)"
   ]
  },
  {
   "cell_type": "code",
   "execution_count": 3,
   "id": "f7691d3c-f4e8-4ec6-ba26-9f2eb6501829",
   "metadata": {},
   "outputs": [],
   "source": [
    "class Simulation(System):\n",
    "    def setup(self):\n",
    "        self.add_inward('center_of_mass', [0.,0.,0.])\n",
    "        self.add_inward('tensor_of_inertia', [[0.,0.,0.],[0.,0.,0.],[0.,0.,0.]])\n",
    "        self.add_inward('mass', 0.)\n",
    "        self.add_outward('length', 0)\n",
    "        self.add_outward('radius', 0)\n",
    "\n",
    "    def compute(self):\n",
    "        self.length, self.radius = simulate(self.center_of_mass, self.tensor_of_inertia, self.mass)"
   ]
  },
  {
   "cell_type": "code",
   "execution_count": 4,
   "id": "b2faf665-63ab-4a32-beb1-6e5fc8bfbe00",
   "metadata": {},
   "outputs": [],
   "source": [
    "class Component(System):\n",
    "\n",
    "    def setup(self):\n",
    "        self.add_child(Geom('geom', path ='gear.jcad'))\n",
    "        self.add_child(Simulation('simu'))\n",
    "        self.connect(self.geom.outwards, self.simu.inwards)\n",
    "        self.connect(self.geom.inwards, self.simu.outwards)"
   ]
  },
  {
   "cell_type": "code",
   "execution_count": 5,
   "id": "38f9aee4-d686-4f8d-b202-d9350e87c0db",
   "metadata": {},
   "outputs": [],
   "source": [
    "head = Component('head')"
   ]
  },
  {
   "cell_type": "code",
   "execution_count": 6,
   "id": "e128d03e-85cc-47ac-a2ac-4c8433fd114e",
   "metadata": {},
   "outputs": [],
   "source": [
    "driver = head.add_driver(NonLinearSolver('solver'))"
   ]
  },
  {
   "cell_type": "code",
   "execution_count": 7,
   "id": "1307f6d8-c185-4075-8b8e-f2e375518e34",
   "metadata": {},
   "outputs": [],
   "source": [
    "head.run_drivers()"
   ]
  },
  {
   "cell_type": "code",
   "execution_count": 8,
   "id": "3bdfd323-471a-4081-9a79-1a47b19966a8",
   "metadata": {},
   "outputs": [],
   "source": [
    "gear = head.geom"
   ]
  },
  {
   "cell_type": "code",
   "execution_count": 9,
   "id": "d0ea37b9-c30d-468f-84f6-f8e9bfa9d23d",
   "metadata": {},
   "outputs": [
    {
     "data": {
      "text/plain": [
       "[-4.108799189973101e-15, -0.5, -3.538001223351958e-14]"
      ]
     },
     "execution_count": 9,
     "metadata": {},
     "output_type": "execute_result"
    }
   ],
   "source": [
    "gear.center_of_mass"
   ]
  },
  {
   "cell_type": "code",
   "execution_count": 10,
   "id": "e19a1fbc-cb3c-4a04-a049-592da5b93c01",
   "metadata": {},
   "outputs": [
    {
     "data": {
      "text/plain": [
       "8.0"
      ]
     },
     "execution_count": 10,
     "metadata": {},
     "output_type": "execute_result"
    }
   ],
   "source": [
    "head.simu.length"
   ]
  },
  {
   "cell_type": "code",
   "execution_count": 11,
   "id": "d31335c2-20ca-41f4-9a6b-a0894b151a2c",
   "metadata": {},
   "outputs": [],
   "source": [
    "obs = JcadNotification(gear.gear)\n",
    "def callback():\n",
    "    obj = gear.gear.get_object(CYLINDER)\n",
    "    time.sleep(1)\n",
    "    return test(obj)\n",
    "obs.connect(callback)"
   ]
  },
  {
   "cell_type": "code",
   "execution_count": 13,
   "id": "52222df1-53c3-4e28-afd4-ffd62474d597",
   "metadata": {},
   "outputs": [],
   "source": []
  },
  {
   "cell_type": "code",
   "execution_count": 14,
   "id": "87b8e1ec-e539-4662-aace-96618b4ea9bc",
   "metadata": {},
   "outputs": [],
   "source": []
  },
  {
   "cell_type": "code",
   "execution_count": null,
   "id": "87e1c3c4-987c-45cf-a30c-d6c1191d36e4",
   "metadata": {},
   "outputs": [],
   "source": []
  }
 ],
 "metadata": {
  "kernelspec": {
   "display_name": "Python 3 (ipykernel)",
   "language": "python",
   "name": "python3"
  },
  "language_info": {
   "codemirror_mode": {
    "name": "ipython",
    "version": 3
   },
   "file_extension": ".py",
   "mimetype": "text/x-python",
   "name": "python",
   "nbconvert_exporter": "python",
   "pygments_lexer": "ipython3",
   "version": "3.10.10"
  }
 },
 "nbformat": 4,
 "nbformat_minor": 5
}
