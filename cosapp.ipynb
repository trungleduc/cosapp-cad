{
 "cells": [
  {
   "cell_type": "code",
   "execution_count": 7,
   "id": "70363185-e467-4b28-9ab1-65c016ceec40",
   "metadata": {},
   "outputs": [],
   "source": [
    "from jupytercad import CadDocument\n",
    "from functools import partial\n",
    "import asyncio"
   ]
  },
  {
   "cell_type": "code",
   "execution_count": 8,
   "id": "4de9b707-15c5-447d-9a80-0f44fc6d8adf",
   "metadata": {},
   "outputs": [],
   "source": [
    "doc = CadDocument('gear.jcad');"
   ]
  },
  {
   "cell_type": "code",
   "execution_count": 9,
   "id": "d5530dc5-f87d-40f9-a9c0-590dd00723b3",
   "metadata": {},
   "outputs": [],
   "source": [
    "yobjects =doc.ydoc.get_array(\"objects\")\n"
   ]
  },
  {
   "cell_type": "code",
   "execution_count": 4,
   "id": "222bddcb-7bb3-4b53-8311-55e6d73f1c40",
   "metadata": {},
   "outputs": [],
   "source": [
    "async def update_color(target, color):\n",
    "    doc.set_color(target, color)"
   ]
  },
  {
   "cell_type": "code",
   "execution_count": 5,
   "id": "a6d7fdd5-b2d5-4333-b69c-30c46f76675e",
   "metadata": {},
   "outputs": [],
   "source": [
    "NEW_COLOR_ACTION = []\n",
    "def callback(target, events): \n",
    "    for event in events:\n",
    "        if 'shapeMetadata' not in event.keys:\n",
    "            target_name = event.target['name']\n",
    "            asyncio.create_task( update_color(target_name, [1,0,0]))\n",
    "            # NEW_COLOR_ACTION.append(dict(target=target_name, color=[1,0,0]))"
   ]
  },
  {
   "cell_type": "code",
   "execution_count": 6,
   "id": "4ec54362-2145-49f3-ae8c-83e7a425050d",
   "metadata": {},
   "outputs": [],
   "source": [
    "\n",
    "    "
   ]
  },
  {
   "cell_type": "code",
   "execution_count": 7,
   "id": "ca81fae1-e3e1-4d2f-8289-d5e2b10e90bd",
   "metadata": {},
   "outputs": [],
   "source": [
    "# def after_transaction(e):\n",
    "#     while NEW_COLOR_ACTION:\n",
    "#         action = NEW_COLOR_ACTION.pop()\n",
    "        "
   ]
  },
  {
   "cell_type": "code",
   "execution_count": 6,
   "id": "73c6af7b-63b5-4cb7-a8d2-5d256746db67",
   "metadata": {},
   "outputs": [],
   "source": [
    "id = yobjects.observe_deep(partial(callback, \"objects\"))"
   ]
  },
  {
   "cell_type": "code",
   "execution_count": 9,
   "id": "aa7d66b6-cde3-45bf-b3d5-63bf5291b803",
   "metadata": {},
   "outputs": [
    {
     "data": {
      "text/plain": [
       "768736518"
      ]
     },
     "execution_count": 9,
     "metadata": {},
     "output_type": "execute_result"
    }
   ],
   "source": [
    "# doc.ydoc.observe_after_transaction(after_transaction)"
   ]
  },
  {
   "cell_type": "code",
   "execution_count": null,
   "id": "3e0fcfe3-e549-4c1d-bdf9-020981467128",
   "metadata": {},
   "outputs": [],
   "source": [
    "yobjects.unobserve(id)"
   ]
  },
  {
   "cell_type": "code",
   "execution_count": 10,
   "id": "af66f9d6-0d4a-43d6-9890-fe161740487b",
   "metadata": {},
   "outputs": [],
   "source": [
    "doc.set_color('Cylinder 2', None)"
   ]
  },
  {
   "cell_type": "code",
   "execution_count": null,
   "id": "914ed7ab-1440-4653-84f4-ab37f1068dc2",
   "metadata": {},
   "outputs": [],
   "source": []
  },
  {
   "cell_type": "code",
   "execution_count": null,
   "id": "be3acf85-35ac-47d5-9c82-e9fe16a94cd5",
   "metadata": {},
   "outputs": [],
   "source": []
  }
 ],
 "metadata": {
  "kernelspec": {
   "display_name": "Python 3 (ipykernel)",
   "language": "python",
   "name": "python3"
  },
  "language_info": {
   "codemirror_mode": {
    "name": "ipython",
    "version": 3
   },
   "file_extension": ".py",
   "mimetype": "text/x-python",
   "name": "python",
   "nbconvert_exporter": "python",
   "pygments_lexer": "ipython3",
   "version": "3.10.10"
  }
 },
 "nbformat": 4,
 "nbformat_minor": 5
}
