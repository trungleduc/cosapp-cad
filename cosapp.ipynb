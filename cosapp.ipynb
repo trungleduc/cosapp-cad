{
 "cells": [
  {
   "cell_type": "code",
   "execution_count": 1,
   "id": "4ec54362-2145-49f3-ae8c-83e7a425050d",
   "metadata": {},
   "outputs": [],
   "source": [
    "from wrapper import JcadNotification\n",
    "from jupytercad import CadDocument\n",
    "from cosapp"
   ]
  },
  {
   "cell_type": "code",
   "execution_count": 2,
   "id": "4de9b707-15c5-447d-9a80-0f44fc6d8adf",
   "metadata": {},
   "outputs": [],
   "source": [
    "doc = CadDocument('gear.jcad');"
   ]
  },
  {
   "cell_type": "code",
   "execution_count": null,
   "id": "2cca8f87-b5e8-40c9-becb-878bcb6a540d",
   "metadata": {},
   "outputs": [],
   "source": []
  },
  {
   "cell_type": "code",
   "execution_count": null,
   "id": "914ed7ab-1440-4653-84f4-ab37f1068dc2",
   "metadata": {},
   "outputs": [],
   "source": []
  },
  {
   "cell_type": "code",
   "execution_count": null,
   "id": "be3acf85-35ac-47d5-9c82-e9fe16a94cd5",
   "metadata": {},
   "outputs": [],
   "source": []
  }
 ],
 "metadata": {
  "kernelspec": {
   "display_name": "Python 3 (ipykernel)",
   "language": "python",
   "name": "python3"
  },
  "language_info": {
   "codemirror_mode": {
    "name": "ipython",
    "version": 3
   },
   "file_extension": ".py",
   "mimetype": "text/x-python",
   "name": "python",
   "nbconvert_exporter": "python",
   "pygments_lexer": "ipython3",
   "version": "3.10.10"
  }
 },
 "nbformat": 4,
 "nbformat_minor": 5
}
